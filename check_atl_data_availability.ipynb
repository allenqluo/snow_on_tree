{
 "cells": [
  {
   "cell_type": "code",
   "execution_count": 1,
   "id": "1f35bdaa-319a-48fd-b420-9f08aa92c97b",
   "metadata": {},
   "outputs": [
    {
     "name": "stdout",
     "output_type": "stream",
     "text": [
      "Requirement already satisfied: sliderule in /srv/conda/envs/notebook/lib/python3.11/site-packages (4.8.14)\n",
      "Requirement already satisfied: requests in /srv/conda/envs/notebook/lib/python3.11/site-packages (from sliderule) (2.32.3)\n",
      "Requirement already satisfied: numpy in /srv/conda/envs/notebook/lib/python3.11/site-packages (from sliderule) (1.26.4)\n",
      "Requirement already satisfied: fiona in /srv/conda/envs/notebook/lib/python3.11/site-packages (from sliderule) (1.9.6)\n",
      "Requirement already satisfied: geopandas in /srv/conda/envs/notebook/lib/python3.11/site-packages (from sliderule) (1.0.1)\n",
      "Requirement already satisfied: shapely in /srv/conda/envs/notebook/lib/python3.11/site-packages (from sliderule) (2.0.5)\n",
      "Requirement already satisfied: scikit-learn in /srv/conda/envs/notebook/lib/python3.11/site-packages (from sliderule) (1.5.1)\n",
      "Requirement already satisfied: pyarrow in /srv/conda/envs/notebook/lib/python3.11/site-packages (from sliderule) (17.0.0)\n",
      "Requirement already satisfied: attrs>=19.2.0 in /srv/conda/envs/notebook/lib/python3.11/site-packages (from fiona->sliderule) (23.2.0)\n",
      "Requirement already satisfied: click~=8.0 in /srv/conda/envs/notebook/lib/python3.11/site-packages (from fiona->sliderule) (8.1.7)\n",
      "Requirement already satisfied: click-plugins>=1.0 in /srv/conda/envs/notebook/lib/python3.11/site-packages (from fiona->sliderule) (1.1.1)\n",
      "Requirement already satisfied: cligj>=0.5 in /srv/conda/envs/notebook/lib/python3.11/site-packages (from fiona->sliderule) (0.7.2)\n",
      "Requirement already satisfied: six in /srv/conda/envs/notebook/lib/python3.11/site-packages (from fiona->sliderule) (1.16.0)\n",
      "Requirement already satisfied: pyogrio>=0.7.2 in /srv/conda/envs/notebook/lib/python3.11/site-packages (from geopandas->sliderule) (0.9.0)\n",
      "Requirement already satisfied: packaging in /srv/conda/envs/notebook/lib/python3.11/site-packages (from geopandas->sliderule) (24.1)\n",
      "Requirement already satisfied: pandas>=1.4.0 in /srv/conda/envs/notebook/lib/python3.11/site-packages (from geopandas->sliderule) (2.2.2)\n",
      "Requirement already satisfied: pyproj>=3.3.0 in /srv/conda/envs/notebook/lib/python3.11/site-packages (from geopandas->sliderule) (3.6.1)\n",
      "Requirement already satisfied: charset-normalizer<4,>=2 in /srv/conda/envs/notebook/lib/python3.11/site-packages (from requests->sliderule) (3.3.2)\n",
      "Requirement already satisfied: idna<4,>=2.5 in /srv/conda/envs/notebook/lib/python3.11/site-packages (from requests->sliderule) (3.7)\n",
      "Requirement already satisfied: urllib3<3,>=1.21.1 in /srv/conda/envs/notebook/lib/python3.11/site-packages (from requests->sliderule) (1.26.19)\n",
      "Requirement already satisfied: certifi>=2017.4.17 in /srv/conda/envs/notebook/lib/python3.11/site-packages (from requests->sliderule) (2024.7.4)\n",
      "Requirement already satisfied: scipy>=1.6.0 in /srv/conda/envs/notebook/lib/python3.11/site-packages (from scikit-learn->sliderule) (1.14.0)\n",
      "Requirement already satisfied: joblib>=1.2.0 in /srv/conda/envs/notebook/lib/python3.11/site-packages (from scikit-learn->sliderule) (1.4.2)\n",
      "Requirement already satisfied: threadpoolctl>=3.1.0 in /srv/conda/envs/notebook/lib/python3.11/site-packages (from scikit-learn->sliderule) (3.5.0)\n",
      "Requirement already satisfied: python-dateutil>=2.8.2 in /srv/conda/envs/notebook/lib/python3.11/site-packages (from pandas>=1.4.0->geopandas->sliderule) (2.8.2)\n",
      "Requirement already satisfied: pytz>=2020.1 in /srv/conda/envs/notebook/lib/python3.11/site-packages (from pandas>=1.4.0->geopandas->sliderule) (2024.1)\n",
      "Requirement already satisfied: tzdata>=2022.7 in /srv/conda/envs/notebook/lib/python3.11/site-packages (from pandas>=1.4.0->geopandas->sliderule) (2024.1)\n",
      "Note: you may need to restart the kernel to use updated packages.\n"
     ]
    }
   ],
   "source": [
    "%pip install --upgrade sliderule"
   ]
  },
  {
   "cell_type": "code",
   "execution_count": 20,
   "id": "0025454a-75b5-48bc-9ed0-49a71583f041",
   "metadata": {},
   "outputs": [
    {
     "name": "stdout",
     "output_type": "stream",
     "text": [
      "CPU times: user 14 µs, sys: 0 ns, total: 14 µs\n",
      "Wall time: 17.2 µs\n"
     ]
    }
   ],
   "source": [
    "%%time\n",
    "\n",
    "import os\n",
    "import geopandas as gpd\n",
    "import pandas as pd\n",
    "from sliderule import icesat2, earthdata, sliderule\n",
    "import json"
   ]
  },
  {
   "cell_type": "code",
   "execution_count": 31,
   "id": "5505a7b2-51c5-4373-b60b-fb6872466fde",
   "metadata": {},
   "outputs": [
    {
     "name": "stdout",
     "output_type": "stream",
     "text": [
      "[{'lat': 65.11812384063202, 'lon': -147.58788094933342}, {'lat': 65.11812384063202, 'lon': -147.41731905066658}, {'lat': 65.18987598639683, 'lon': -147.41731905066658}, {'lat': 65.18987598639683, 'lon': -147.58788094933342}, {'lat': 65.11812384063202, 'lon': -147.58788094933342}]\n",
      "[]\n"
     ]
    }
   ],
   "source": [
    "# # Initialize sliderule (ensure this is connected to Earthdata or your desired endpoint)\n",
    "# sliderule.init(\"slideruleearth.io\")\n",
    "\n",
    "# Load geojson file for the region of interest (BONA example)\n",
    "geojson_file = \"geojson_files/BONA_buffer_8km.geojson\"\n",
    "\n",
    "# Read in the polygon coordinates using sliderule.toregion\n",
    "region = sliderule.toregion(geojson_file)\n",
    "\n",
    "# Ensure the polygon is in the correct format for earthdata.cmr\n",
    "polygon_coordinates = [{\"lat\": coord['lat'], \"lon\": coord['lon']} for coord in region['poly']]\n",
    "\n",
    "print(polygon_coordinates)\n",
    "# Set your parameters for time and version\n",
    "time_start = \"2023-01-01T00:00:00Z\"\n",
    "time_end = \"2023-12-31T23:59:59Z\"\n",
    "release = \"001\"\n",
    "\n",
    "# Query Earthdata's CMR for the granules using the extracted polygon coordinates\n",
    "granules_list = earthdata.cmr(short_name='ATL03', polygon=polygon_coordinates, \n",
    "                               time_start=time_start, time_end=time_end, \n",
    "                               version=release)\n",
    "\n",
    "# Print or process the granules list\n",
    "print(granules_list)\n"
   ]
  },
  {
   "cell_type": "code",
   "execution_count": 3,
   "id": "a197054b-be25-4c36-a460-3736fb54fb49",
   "metadata": {},
   "outputs": [
    {
     "name": "stdout",
     "output_type": "stream",
     "text": [
      "CPU times: user 4 µs, sys: 1 µs, total: 5 µs\n",
      "Wall time: 8.11 µs\n"
     ]
    }
   ],
   "source": [
    "%%time\n",
    "geojson_directory = \"geojson_files\"\n",
    "years_to_check = list(range(2018, 2024))  # Check years 2018 to 2023"
   ]
  },
  {
   "cell_type": "code",
   "execution_count": 11,
   "id": "d5a5eeba-fa18-4882-8967-bedec84a9c85",
   "metadata": {},
   "outputs": [],
   "source": [
    "def find_atl03_availability(geojson_dir, years_to_check, product=\"ATL03\", release=\"003\"):\n",
    "    \"\"\"\n",
    "    Find ATL03 data availability by year for a set of sites defined by GeoJSON files.\n",
    "\n",
    "    Parameters:\n",
    "    - geojson_dir (str): Directory containing GeoJSON files for site boundaries.\n",
    "    - years_to_check (list): List of years to check (e.g., from 2018 to 2023).\n",
    "    - product (str): ICESat-2 product (default: \"ATL03\").\n",
    "    - release (str): The release version of the product (default: \"003\").\n",
    "\n",
    "    Returns:\n",
    "    - dict: Dictionary where keys are site names and values are lists of available years.\n",
    "    \"\"\"\n",
    "    # Dictionary to store results\n",
    "    availability = {}\n",
    "\n",
    "    # Loop through GeoJSON files in the directory\n",
    "    for geojson_file in os.listdir(geojson_dir):\n",
    "        if geojson_file.endswith(\".geojson\"):\n",
    "            site_name = os.path.splitext(geojson_file)[0]\n",
    "\n",
    "            # Use sliderule to read the GeoJSON file and get the region\n",
    "            region = sliderule.toregion(os.path.join(geojson_dir, geojson_file))\n",
    "\n",
    "            # Query CMR for the specified product for each year in the specified range\n",
    "            available_years = []\n",
    "            for year in years_to_check:\n",
    "                time_start = f\"{year}-01-01T00:00:00Z\"\n",
    "                time_end = f\"{year}-12-31T23:59:59Z\"\n",
    "\n",
    "                try:\n",
    "                    # Query CMR for the granules in the given time range and polygon\n",
    "                    granules = earthdata.cmr(short_name=product, \n",
    "                                              polygon=region, \n",
    "                                              time_start=time_start, \n",
    "                                              time_end=time_end, \n",
    "                                              version=release)\n",
    "                    \n",
    "                    # If granules are found, the data is available for the year\n",
    "                    if granules:\n",
    "                        available_years.append(year)\n",
    "                \n",
    "                except Exception as e:\n",
    "                    print(f\"Error querying CMR for {site_name} in {year}: {e}\")\n",
    "\n",
    "            # Save results for the site\n",
    "            if available_years:\n",
    "                availability[site_name] = available_years\n",
    "    \n",
    "    return availability"
   ]
  },
  {
   "cell_type": "code",
   "execution_count": 12,
   "id": "86bffcb9-37a6-407f-8380-b4045dd3db39",
   "metadata": {},
   "outputs": [
    {
     "name": "stdout",
     "output_type": "stream",
     "text": [
      "Error querying CMR for DEJU_buffer_8km in 2018: 0\n",
      "Error querying CMR for DEJU_buffer_8km in 2019: 0\n",
      "Error querying CMR for DEJU_buffer_8km in 2020: 0\n",
      "Error querying CMR for DEJU_buffer_8km in 2021: 0\n",
      "Error querying CMR for DEJU_buffer_8km in 2022: 0\n",
      "Error querying CMR for DEJU_buffer_8km in 2023: 0\n",
      "Error querying CMR for BONA_buffer_8km in 2018: 0\n",
      "Error querying CMR for BONA_buffer_8km in 2019: 0\n",
      "Error querying CMR for BONA_buffer_8km in 2020: 0\n",
      "Error querying CMR for BONA_buffer_8km in 2021: 0\n",
      "Error querying CMR for BONA_buffer_8km in 2022: 0\n",
      "Error querying CMR for BONA_buffer_8km in 2023: 0\n",
      "Error querying CMR for WREF_buffer_8km in 2018: 0\n",
      "Error querying CMR for WREF_buffer_8km in 2019: 0\n",
      "Error querying CMR for WREF_buffer_8km in 2020: 0\n",
      "Error querying CMR for WREF_buffer_8km in 2021: 0\n",
      "Error querying CMR for WREF_buffer_8km in 2022: 0\n",
      "Error querying CMR for WREF_buffer_8km in 2023: 0\n",
      "{}\n",
      "CPU times: user 20.8 ms, sys: 16.4 ms, total: 37.1 ms\n",
      "Wall time: 42.2 ms\n"
     ]
    }
   ],
   "source": [
    "%%time\n",
    "availability = find_atl03_availability(geojson_directory, years_to_check)\n",
    "print(availability)"
   ]
  },
  {
   "cell_type": "code",
   "execution_count": null,
   "id": "b4466722-a356-4904-a756-ba3305dd61e9",
   "metadata": {},
   "outputs": [],
   "source": []
  }
 ],
 "metadata": {
  "kernelspec": {
   "display_name": "Python 3 (ipykernel)",
   "language": "python",
   "name": "python3"
  },
  "language_info": {
   "codemirror_mode": {
    "name": "ipython",
    "version": 3
   },
   "file_extension": ".py",
   "mimetype": "text/x-python",
   "name": "python",
   "nbconvert_exporter": "python",
   "pygments_lexer": "ipython3",
   "version": "3.11.9"
  }
 },
 "nbformat": 4,
 "nbformat_minor": 5
}
