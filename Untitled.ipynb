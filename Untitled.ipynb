{
 "cells": [
  {
   "cell_type": "code",
   "execution_count": 3,
   "id": "0eb990db-90f1-46a5-bb9f-c3c8ad6f0c2a",
   "metadata": {},
   "outputs": [
    {
     "name": "stdout",
     "output_type": "stream",
     "text": [
      "   extent_id  canopy_photon_count  terrain_photon_count  unique_shots\n",
      "0          1                 10.0                   0.0           5.0\n",
      "1          2                  0.0                   NaN          10.0\n",
      "2          3                  NaN                  20.0           0.0\n",
      "3          4                  8.0                  25.0           NaN\n"
     ]
    }
   ],
   "source": [
    "import pandas as pd\n",
    "import numpy as np\n",
    "\n",
    "canopy_counts = pd.DataFrame({\n",
    "    'extent_id': [1, 2, 3, 4],\n",
    "    'canopy_photon_count': [10, 0, np.nan, 8]\n",
    "})\n",
    "\n",
    "terrain_counts = pd.DataFrame({\n",
    "    'extent_id': [1, 2, 3, 4],\n",
    "    'terrain_photon_count': [0, np.nan, 20, 25]\n",
    "})\n",
    "\n",
    "unique_time_count = pd.DataFrame({\n",
    "    'extent_id': [1, 2, 3, 4],\n",
    "    'unique_shots': [5, 10, 0, np.nan]\n",
    "})\n",
    "\n",
    "# Merge these\n",
    "segment_counts = (\n",
    "    canopy_counts\n",
    "    .merge(terrain_counts, on='extent_id', how='outer')\n",
    "    .merge(unique_time_count, on='extent_id', how='outer')\n",
    ")\n",
    "\n",
    "print(segment_counts)"
   ]
  },
  {
   "cell_type": "code",
   "execution_count": 19,
   "id": "0899d7ef-e9b0-4346-b76b-e250a4261295",
   "metadata": {},
   "outputs": [
    {
     "name": "stdout",
     "output_type": "stream",
     "text": [
      "   extent_id   time     A     B    C  group\n",
      "2        102  103.0   NaN   6.0  3.0      2\n",
      "3        104  104.0  15.0   NaN  4.0      2\n",
      "4        105  105.0  20.0  10.0  NaN      2\n",
      "5        106    NaN  25.0  12.0  6.0      3\n",
      "6        107  106.0  30.0   NaN  NaN      3\n",
      "7        108  107.0   NaN  18.0  8.0      3\n",
      "   extent_id   time     A    B    C  group\n",
      "0        101  101.0   5.0  2.0  1.0      1\n",
      "1        101  102.0  10.0  4.0  2.0      1\n",
      "   extent_id  canopy_photon_count\n",
      "0        102                    1\n",
      "1        104                    1\n",
      "2        105                    1\n",
      "3        106                    1\n",
      "4        107                    1\n",
      "5        108                    1\n",
      "   extent_id  terrain_photon_count\n",
      "0        101                     2\n",
      "Index(['extent_id', 'canopy_photon_count'], dtype='object')\n",
      "   extent_id  canopy_photon_count  terrain_photon_count\n",
      "0        101                  0.0                   2.0\n",
      "1        102                  1.0                   0.0\n",
      "2        104                  1.0                   0.0\n",
      "3        105                  1.0                   0.0\n",
      "4        106                  1.0                   0.0\n",
      "5        107                  1.0                   0.0\n",
      "6        108                  1.0                   0.0\n"
     ]
    },
    {
     "name": "stderr",
     "output_type": "stream",
     "text": [
      "/tmp/ipykernel_417/2960721445.py:21: FutureWarning: A value is trying to be set on a copy of a DataFrame or Series through chained assignment using an inplace method.\n",
      "The behavior will change in pandas 3.0. This inplace method will never work because the intermediate object on which we are setting values always behaves as a copy.\n",
      "\n",
      "For example, when doing 'df[col].method(value, inplace=True)', try using 'df.method({col: value}, inplace=True)' or df[col] = df[col].method(value) instead, to perform the operation inplace on the original object.\n",
      "\n",
      "\n",
      "  canopy_counts['canopy_photon_count'].fillna(0, inplace=True)\n",
      "/tmp/ipykernel_417/2960721445.py:22: FutureWarning: A value is trying to be set on a copy of a DataFrame or Series through chained assignment using an inplace method.\n",
      "The behavior will change in pandas 3.0. This inplace method will never work because the intermediate object on which we are setting values always behaves as a copy.\n",
      "\n",
      "For example, when doing 'df[col].method(value, inplace=True)', try using 'df.method({col: value}, inplace=True)' or df[col] = df[col].method(value) instead, to perform the operation inplace on the original object.\n",
      "\n",
      "\n",
      "  terrain_counts['terrain_photon_count'].fillna(0, inplace=True)\n",
      "/tmp/ipykernel_417/2960721445.py:35: FutureWarning: A value is trying to be set on a copy of a DataFrame or Series through chained assignment using an inplace method.\n",
      "The behavior will change in pandas 3.0. This inplace method will never work because the intermediate object on which we are setting values always behaves as a copy.\n",
      "\n",
      "For example, when doing 'df[col].method(value, inplace=True)', try using 'df.method({col: value}, inplace=True)' or df[col] = df[col].method(value) instead, to perform the operation inplace on the original object.\n",
      "\n",
      "\n",
      "  segment_counts['canopy_photon_count'].fillna(0, inplace=True)\n",
      "/tmp/ipykernel_417/2960721445.py:36: FutureWarning: A value is trying to be set on a copy of a DataFrame or Series through chained assignment using an inplace method.\n",
      "The behavior will change in pandas 3.0. This inplace method will never work because the intermediate object on which we are setting values always behaves as a copy.\n",
      "\n",
      "For example, when doing 'df[col].method(value, inplace=True)', try using 'df.method({col: value}, inplace=True)' or df[col] = df[col].method(value) instead, to perform the operation inplace on the original object.\n",
      "\n",
      "\n",
      "  segment_counts['terrain_photon_count'].fillna(0, inplace=True)\n"
     ]
    }
   ],
   "source": [
    "data = pd.DataFrame({\n",
    "    'extent_id': [101, 101, 102, 104, 105, 106, 107, 108],\n",
    "    'time': [101, 102, 103, 104, 105, None, 106, 107],\n",
    "    'A': [5, 10, None, 15, 20, 25, 30, None],\n",
    "    'B': [2, 4, 6, None, 10, 12, None, 18],\n",
    "    'C': [1, 2, 3, 4, None, 6, None, 8],\n",
    "    'group': [1, 1, 2, 2, 2, 3, 3, 3],\n",
    "})\n",
    "\n",
    "canopy_photons = data[data['group'].isin([2, 3])]\n",
    "\n",
    "terrain_photons = data[data['group'] == 1]\n",
    "\n",
    "print(canopy_photons)\n",
    "print(terrain_photons)\n",
    "\n",
    "canopy_counts = canopy_photons.groupby('extent_id', dropna=False).size().reset_index(name='canopy_photon_count')\n",
    "terrain_counts = terrain_photons.groupby('extent_id', dropna=False).size().reset_index(name='terrain_photon_count')\n",
    "\n",
    "# Replace NaN values in 'canopy_photon_count' with 1\n",
    "canopy_counts['canopy_photon_count'].fillna(0, inplace=True)\n",
    "terrain_counts['terrain_photon_count'].fillna(0, inplace=True)\n",
    "\n",
    "print(canopy_counts)\n",
    "print(terrain_counts)\n",
    "\n",
    "print(canopy_counts.columns)\n",
    "\n",
    "# Merge these\n",
    "segment_counts = (\n",
    "    canopy_counts\n",
    "    .merge(terrain_counts, on='extent_id', how='outer')\n",
    ")\n",
    "\n",
    "segment_counts['canopy_photon_count'].fillna(0, inplace=True)\n",
    "segment_counts['terrain_photon_count'].fillna(0, inplace=True)\n",
    "\n",
    "print(segment_counts)\n"
   ]
  },
  {
   "cell_type": "code",
   "execution_count": null,
   "id": "1ce09b2f-edca-4fa2-bdc0-966282895c09",
   "metadata": {},
   "outputs": [],
   "source": []
  }
 ],
 "metadata": {
  "kernelspec": {
   "display_name": "Python 3 (ipykernel)",
   "language": "python",
   "name": "python3"
  },
  "language_info": {
   "codemirror_mode": {
    "name": "ipython",
    "version": 3
   },
   "file_extension": ".py",
   "mimetype": "text/x-python",
   "name": "python",
   "nbconvert_exporter": "python",
   "pygments_lexer": "ipython3",
   "version": "3.11.9"
  }
 },
 "nbformat": 4,
 "nbformat_minor": 5
}
