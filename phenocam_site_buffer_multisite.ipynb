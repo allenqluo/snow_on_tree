{
 "cells": [
  {
   "cell_type": "markdown",
   "id": "02d965eb-3d8a-4398-a3de-49bf41264cad",
   "metadata": {},
   "source": [
    "# Create a 10 km Square GeoJSON File Centered on BONA:\n",
    "\n",
    "First, generate a GeoJSON file representing a 10 km square centered at the BONA coordinates. This file will define your area of interest for the data retrieval."
   ]
  },
  {
   "cell_type": "markdown",
   "id": "8056d834-4a2e-4507-8b3c-a5aa7bf49d89",
   "metadata": {},
   "source": [
    "# Import Libraries:"
   ]
  },
  {
   "cell_type": "markdown",
   "id": "b8aea256-9738-45a6-84e4-ab8c6ed185e6",
   "metadata": {},
   "source": [
    "NEON sites:\n",
    "TEAK: 37.00583, -119.00602\n",
    "SOAP:37.03337, -119.26219\n",
    "HARV:42.53691, -72.17265\n",
    "WREF:45.82049, -121.95191\n",
    "BONA: Lat: 65.1540 Lon: -147.5026\n"
   ]
  },
  {
   "cell_type": "code",
   "execution_count": 6,
   "id": "44789d89-15c7-4d16-9c10-f44400457ebc",
   "metadata": {},
   "outputs": [
    {
     "name": "stdout",
     "output_type": "stream",
     "text": [
      "Requirement already satisfied: geopy in /srv/conda/envs/notebook/lib/python3.11/site-packages (2.4.1)\n",
      "Requirement already satisfied: geographiclib<3,>=1.52 in /srv/conda/envs/notebook/lib/python3.11/site-packages (from geopy) (2.0)\n",
      "Note: you may need to restart the kernel to use updated packages.\n"
     ]
    }
   ],
   "source": [
    "%pip install geopy"
   ]
  },
  {
   "cell_type": "code",
   "execution_count": 7,
   "id": "aab3c3ff-bd34-4dca-9596-3b0d88d4a724",
   "metadata": {},
   "outputs": [
    {
     "name": "stdout",
     "output_type": "stream",
     "text": [
      "CPU times: user 34 µs, sys: 0 ns, total: 34 µs\n",
      "Wall time: 37.4 µs\n"
     ]
    }
   ],
   "source": [
    "%%time\n",
    "\n",
    "import os\n",
    "import geopandas as gpd\n",
    "from shapely.geometry import Polygon\n",
    "from geopy.distance import geodesic"
   ]
  },
  {
   "cell_type": "code",
   "execution_count": 8,
   "id": "28bc2641-d412-4dd8-bbff-bebccaaa4677",
   "metadata": {},
   "outputs": [
    {
     "name": "stdout",
     "output_type": "stream",
     "text": [
      "CPU times: user 5 µs, sys: 1 µs, total: 6 µs\n",
      "Wall time: 7.63 µs\n"
     ]
    }
   ],
   "source": [
    "%%time\n",
    "# Dictionary of sites with coordinates (latitude, longitude)\n",
    "camera_sites = {\n",
    "    \"BONA\": [65.1540, -147.5026],\n",
    "    \"WREF\": [45.8205, -121.9519],\n",
    "    \"DEJU\": [63.8811, -145.7514],\n",
    "    \"RMNP\": [40.2759, -105.5460],\n",
    "    \"TEAK\": [37.0058, -119.0060]\n",
    "}\n",
    "\n",
    "buffer_size_km = 50  # Length and width of square AOI in kilometers\n"
   ]
  },
  {
   "cell_type": "code",
   "execution_count": 9,
   "id": "322e33f7-249a-418c-87fb-b804318b44fe",
   "metadata": {},
   "outputs": [
    {
     "name": "stdout",
     "output_type": "stream",
     "text": [
      "CPU times: user 7 µs, sys: 0 ns, total: 7 µs\n",
      "Wall time: 8.58 µs\n"
     ]
    }
   ],
   "source": [
    "%%time\n",
    "def generate_geojson_files(sites, buffer_size_km, output_folder=\"geojson_files\"):\n",
    "    \"\"\"\n",
    "    Generate GeoJSON files with bounding box polygons for specified camera sites.\n",
    "\n",
    "    Parameters:\n",
    "        sites (dict): Dictionary of site names and coordinates (latitude, longitude).\n",
    "        buffer_size_km (float): Buffer size in kilometers for the bounding box.\n",
    "        output_folder (str): Folder to save the GeoJSON files.\n",
    "    \"\"\"\n",
    "    # Ensure the output folder exists\n",
    "    os.makedirs(output_folder, exist_ok=True)\n",
    "\n",
    "    for site_name, coords in sites.items():\n",
    "        # Calculate half the buffer distance (buffer size in each direction)\n",
    "        half_buffer_km = buffer_size_km / 2\n",
    "\n",
    "        # Calculate the corner points for the bounding box\n",
    "        north = geodesic(kilometers=half_buffer_km).destination((coords[0], coords[1]), 0)\n",
    "        south = geodesic(kilometers=half_buffer_km).destination((coords[0], coords[1]), 180)\n",
    "        east = geodesic(kilometers=half_buffer_km).destination((coords[0], coords[1]), 90)\n",
    "        west = geodesic(kilometers=half_buffer_km).destination((coords[0], coords[1]), 270)\n",
    "\n",
    "        # Define the coordinates for the square polygon\n",
    "        polygon_coords = [\n",
    "            (west.longitude, south.latitude),  # Bottom-left\n",
    "            (west.longitude, north.latitude),  # Top-left\n",
    "            (east.longitude, north.latitude),  # Top-right\n",
    "            (east.longitude, south.latitude),  # Bottom-right\n",
    "            (west.longitude, south.latitude)   # Close the loop\n",
    "        ]\n",
    "\n",
    "        # Create the polygon and GeoDataFrame\n",
    "        polygon = Polygon(polygon_coords)\n",
    "        boundary_gdf = gpd.GeoDataFrame(index=[0], crs=\"EPSG:4326\", geometry=[polygon])\n",
    "\n",
    "        # Save the GeoDataFrame as a GeoJSON file\n",
    "        geojson_file = os.path.join(output_folder, f\"{site_name}_buffer_{buffer_size_km}km.geojson\")\n",
    "        boundary_gdf.to_file(geojson_file, driver=\"GeoJSON\")\n",
    "\n",
    "        print(f\"GeoJSON file saved as '{geojson_file}' with a {buffer_size_km} km square centered on {site_name}.\")"
   ]
  },
  {
   "cell_type": "code",
   "execution_count": 10,
   "id": "e98c4a1f-ad4d-4749-af1a-2c9bdfb4120a",
   "metadata": {},
   "outputs": [
    {
     "name": "stdout",
     "output_type": "stream",
     "text": [
      "GeoJSON file saved as 'geojson_files/BONA_buffer_50km.geojson' with a 50 km square centered on BONA.\n",
      "GeoJSON file saved as 'geojson_files/WREF_buffer_50km.geojson' with a 50 km square centered on WREF.\n",
      "GeoJSON file saved as 'geojson_files/DEJU_buffer_50km.geojson' with a 50 km square centered on DEJU.\n",
      "GeoJSON file saved as 'geojson_files/RMNP_buffer_50km.geojson' with a 50 km square centered on RMNP.\n",
      "GeoJSON file saved as 'geojson_files/TEAK_buffer_50km.geojson' with a 50 km square centered on TEAK.\n",
      "CPU times: user 29.3 ms, sys: 3.12 ms, total: 32.5 ms\n",
      "Wall time: 88.9 ms\n"
     ]
    }
   ],
   "source": [
    "%%time\n",
    "generate_geojson_files(camera_sites, buffer_size_km=buffer_size_km)"
   ]
  }
 ],
 "metadata": {
  "kernelspec": {
   "display_name": "Python 3 (ipykernel)",
   "language": "python",
   "name": "python3"
  },
  "language_info": {
   "codemirror_mode": {
    "name": "ipython",
    "version": 3
   },
   "file_extension": ".py",
   "mimetype": "text/x-python",
   "name": "python",
   "nbconvert_exporter": "python",
   "pygments_lexer": "ipython3",
   "version": "3.11.9"
  }
 },
 "nbformat": 4,
 "nbformat_minor": 5
}
