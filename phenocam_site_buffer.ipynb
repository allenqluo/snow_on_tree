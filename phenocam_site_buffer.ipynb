{
 "cells": [
  {
   "cell_type": "markdown",
   "id": "02d965eb-3d8a-4398-a3de-49bf41264cad",
   "metadata": {},
   "source": [
    "# Create a 10 km Square GeoJSON File Centered on BONA:\n",
    "\n",
    "First, generate a GeoJSON file representing a 10 km square centered at the BONA coordinates. This file will define your area of interest for the data retrieval."
   ]
  },
  {
   "cell_type": "markdown",
   "id": "8056d834-4a2e-4507-8b3c-a5aa7bf49d89",
   "metadata": {},
   "source": [
    "# Import Libraries:"
   ]
  },
  {
   "cell_type": "markdown",
   "id": "b8aea256-9738-45a6-84e4-ab8c6ed185e6",
   "metadata": {},
   "source": [
    "NEON sites:\n",
    "TEAK: 37.00583, -119.00602\n",
    "SOAP:37.03337, -119.26219\n",
    "HARV:42.53691, -72.17265\n",
    "WREF:45.82049, -121.95191\n",
    "BONA: Lat: 65.1540 Lon: -147.5026\n"
   ]
  },
  {
   "cell_type": "code",
   "execution_count": 1,
   "id": "aab3c3ff-bd34-4dca-9596-3b0d88d4a724",
   "metadata": {},
   "outputs": [],
   "source": [
    "# %pip install geopy\n",
    "import geopandas as gpd\n",
    "from shapely.geometry import Polygon\n",
    "from geopy.distance import geodesic"
   ]
  },
  {
   "cell_type": "code",
   "execution_count": 2,
   "id": "28bc2641-d412-4dd8-bbff-bebccaaa4677",
   "metadata": {},
   "outputs": [
    {
     "name": "stdout",
     "output_type": "stream",
     "text": [
      "GeoJSON file saved as 'BONA_buffer_8km.geojson' with a 5 km square centered on BONA.\n"
     ]
    }
   ],
   "source": [
    "# BONA coordinates (latitude, longitude)\n",
    "bona_cam = [65.1540, -147.5026]\n",
    "wref_cam = [45.8205, -121.9519]\n",
    "deju_cam = [63.8811, -145.7514]\n",
    "\n",
    "buffer_size_km = 8  # Total size of the square in kilometers\n",
    "\n",
    "# Calculate half the buffer distance (5 km in each direction)\n",
    "half_buffer_km = buffer_size_km / 2\n",
    "\n",
    "# Calculate the corner points for the bounding box\n",
    "north = geodesic(kilometers=half_buffer_km).destination((bona_cam[0], bona_cam[1]), 0)\n",
    "south = geodesic(kilometers=half_buffer_km).destination((bona_cam[0], bona_cam[1]), 180)\n",
    "east = geodesic(kilometers=half_buffer_km).destination((bona_cam[0], bona_cam[1]), 90)\n",
    "west = geodesic(kilometers=half_buffer_km).destination((bona_cam[0], bona_cam[1]), 270)\n",
    "\n",
    "# Define the coordinates for the square polygon\n",
    "coords = [\n",
    "    (west.longitude, south.latitude),  # Bottom-left\n",
    "    (west.longitude, north.latitude),  # Top-left\n",
    "    (east.longitude, north.latitude),  # Top-right\n",
    "    (east.longitude, south.latitude),  # Bottom-right\n",
    "    (west.longitude, south.latitude)   # Close the loop\n",
    "]\n",
    "\n",
    "# Create the polygon and GeoDataFrame\n",
    "polygon = Polygon(coords)\n",
    "boundary_gdf = gpd.GeoDataFrame(index=[0], crs=\"EPSG:4326\", geometry=[polygon])\n",
    "\n",
    "folder = 'year/'\n",
    "savefile = os.path.join(folder, f'{site_name}_terrain_vs_canopy_{year}_ats{ats}.png')\n",
    "\n",
    "# Save the GeoDataFrame as a GeoJSON file\n",
    "geojson_file = \"BONA_buffer_8km.geojson\"\n",
    "boundary_gdf.to_file(geojson_file, driver=\"GeoJSON\")\n",
    "\n",
    "print(f\"GeoJSON file saved as '{geojson_file}' with a 5 km square centered on BONA.\")\n"
   ]
  },
  {
   "cell_type": "code",
   "execution_count": null,
   "id": "e98c4a1f-ad4d-4749-af1a-2c9bdfb4120a",
   "metadata": {},
   "outputs": [],
   "source": []
  }
 ],
 "metadata": {
  "kernelspec": {
   "display_name": "Python 3 (ipykernel)",
   "language": "python",
   "name": "python3"
  },
  "language_info": {
   "codemirror_mode": {
    "name": "ipython",
    "version": 3
   },
   "file_extension": ".py",
   "mimetype": "text/x-python",
   "name": "python",
   "nbconvert_exporter": "python",
   "pygments_lexer": "ipython3",
   "version": "3.11.9"
  }
 },
 "nbformat": 4,
 "nbformat_minor": 5
}
